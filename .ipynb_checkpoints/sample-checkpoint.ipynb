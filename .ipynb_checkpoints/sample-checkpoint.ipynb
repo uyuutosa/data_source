{
 "cells": [
  {
   "cell_type": "markdown",
   "metadata": {},
   "source": [
    "## Import modules"
   ]
  },
  {
   "cell_type": "code",
   "execution_count": 1,
   "metadata": {},
   "outputs": [
    {
     "name": "stdout",
     "output_type": "stream",
     "text": [
      "/home/yu/proj\n"
     ]
    }
   ],
   "source": [
    "cd ../"
   ]
  },
  {
   "cell_type": "code",
   "execution_count": 2,
   "metadata": {},
   "outputs": [],
   "source": [
    "import sys, os\n",
    "sys.path.pop(1)\n",
    "sys.path += \"/\".join(os.getcwd().split('/')[:-1])"
   ]
  },
  {
   "cell_type": "code",
   "execution_count": 3,
   "metadata": {},
   "outputs": [],
   "source": [
    "import cv2\n",
    "import data_source.data_source_factory as dsf\n",
    "from numpy import *"
   ]
  },
  {
   "cell_type": "markdown",
   "metadata": {},
   "source": [
    "## Loading images\n",
    "Currently following two type directory structures are supported."
   ]
  },
  {
   "cell_type": "code",
   "execution_count": 4,
   "metadata": {},
   "outputs": [
    {
     "name": "stdout",
     "output_type": "stream",
     "text": [
      "\u001b[01;34mdata_source/sample/directory_type1\u001b[00m\r\n",
      "├── \u001b[01;35mcat00.jpg\u001b[00m\r\n",
      "├── \u001b[01;35mcat01.jpg\u001b[00m\r\n",
      "├── \u001b[01;35mcat02.jpg\u001b[00m\r\n",
      "├── \u001b[01;35mcat03.jpg\u001b[00m\r\n",
      "├── \u001b[01;35mcat04.jpg\u001b[00m\r\n",
      "├── \u001b[01;35mcat05.jpg\u001b[00m\r\n",
      "├── \u001b[01;35mcat06.jpg\u001b[00m\r\n",
      "├── \u001b[01;35mcat07.jpg\u001b[00m\r\n",
      "├── \u001b[01;35mcat08.jpg\u001b[00m\r\n",
      "├── \u001b[01;35mcat09.jpg\u001b[00m\r\n",
      "└── \u001b[01;35mcat10.jpg\u001b[00m\r\n",
      "\r\n",
      "0 directories, 11 files\r\n"
     ]
    }
   ],
   "source": [
    "!tree data_source/sample/directory_type1"
   ]
  },
  {
   "cell_type": "code",
   "execution_count": 5,
   "metadata": {},
   "outputs": [
    {
     "name": "stdout",
     "output_type": "stream",
     "text": [
      "sample/directory_type2 [error opening dir]\r\n",
      "\r\n",
      "0 directories, 0 files\r\n"
     ]
    }
   ],
   "source": [
    "!tree sample/directory_type2"
   ]
  },
  {
   "cell_type": "code",
   "execution_count": 6,
   "metadata": {},
   "outputs": [],
   "source": [
    "images_1 = dsf.DataSourceFactory().create('data_source/sample/directory_type1')\n",
    "images_2 = dsf.DataSourceFactory().create('data_source/sample/directory_type2')                                         "
   ]
  },
  {
   "cell_type": "code",
   "execution_count": 10,
   "metadata": {},
   "outputs": [
    {
     "name": "stdout",
     "output_type": "stream",
     "text": [
      "images 1:\n",
      "<PIL.JpegImagePlugin.JpegImageFile image mode=RGB size=500x374 at 0x7FDD3143F358>\n",
      "<PIL.JpegImagePlugin.JpegImageFile image mode=RGB size=300x280 at 0x7FDD31438F28>\n",
      "<PIL.JpegImagePlugin.JpegImageFile image mode=RGB size=312x396 at 0x7FDD3143F320>\n",
      "<PIL.JpegImagePlugin.JpegImageFile image mode=RGB size=500x414 at 0x7FDD3143F358>\n",
      "<PIL.JpegImagePlugin.JpegImageFile image mode=RGB size=499x375 at 0x7FDD31438F28>\n",
      "images 2:\n",
      "[<PIL.JpegImagePlugin.JpegImageFile image mode=RGB size=500x374 at 0x7FDD313C3358>, <PIL.JpegImagePlugin.JpegImageFile image mode=RGB size=300x280 at 0x7FDD313C33C8>, <PIL.JpegImagePlugin.JpegImageFile image mode=RGB size=312x396 at 0x7FDD313C3438>]\n",
      "[<PIL.JpegImagePlugin.JpegImageFile image mode=RGB size=500x374 at 0x7FDD31438F28>, <PIL.JpegImagePlugin.JpegImageFile image mode=RGB size=300x280 at 0x7FDD313C34A8>, <PIL.JpegImagePlugin.JpegImageFile image mode=RGB size=312x396 at 0x7FDD313C3518>]\n"
     ]
    }
   ],
   "source": [
    "print('images 1:')\n",
    "for i in images_1:\n",
    "    print(i)\n",
    "    \n",
    "print('images 2:')\n",
    "for i in images_2:\n",
    "    print(i)"
   ]
  },
  {
   "cell_type": "markdown",
   "metadata": {},
   "source": [
    "### Loding movie\n",
    "Currently avi, mov and mp4 are supported (but you need having setting OpenCV)."
   ]
  },
  {
   "cell_type": "code",
   "execution_count": 12,
   "metadata": {},
   "outputs": [
    {
     "data": {
      "text/plain": [
       "3967"
      ]
     },
     "execution_count": 12,
     "metadata": {},
     "output_type": "execute_result"
    }
   ],
   "source": [
    "dog_movie    = dsf.DataSourceFactory().create('data_source/sample/dog.mov')\n",
    "len(dog_movie)"
   ]
  },
  {
   "cell_type": "code",
   "execution_count": 17,
   "metadata": {
    "scrolled": true
   },
   "outputs": [
    {
     "name": "stdout",
     "output_type": "stream",
     "text": [
      "\n",
      "UnKnownError:\u001b[0m currently under inspection, skip.\n",
      "\n",
      "UnKnownError:\u001b[0m currently under inspection, skip.\n",
      "\n",
      "UnKnownError:\u001b[0m currently under inspection, skip.\n",
      "\n",
      "UnKnownError:\u001b[0m currently under inspection, skip.\n"
     ]
    }
   ],
   "source": [
    "for i in dog_movie:\n",
    "    try:\n",
    "        cv2.imshow(\"dog\", array(i)[...,::-1])\n",
    "        cv2.waitKey(1)\n",
    "    except:\n",
    "        break\n",
    "cv2.destroyAllWindows()"
   ]
  },
  {
   "cell_type": "markdown",
   "metadata": {},
   "source": [
    "DataSouce can easily load images from web camera as assigning camera number."
   ]
  },
  {
   "cell_type": "code",
   "execution_count": 15,
   "metadata": {},
   "outputs": [
    {
     "data": {
      "text/plain": [
       "1000000000"
      ]
     },
     "execution_count": 15,
     "metadata": {},
     "output_type": "execute_result"
    }
   ],
   "source": [
    "web_cam    = dsf.DataSourceFactory().create(0)\n",
    "len(web_cam)"
   ]
  },
  {
   "cell_type": "code",
   "execution_count": 18,
   "metadata": {},
   "outputs": [],
   "source": [
    "for i in web_cam:\n",
    "    try:\n",
    "        cv2.imshow(\"web cam\", array(i)[...,::-1])\n",
    "        cv2.waitKey(1)\n",
    "    except:\n",
    "        break"
   ]
  },
  {
   "cell_type": "code",
   "execution_count": 20,
   "metadata": {},
   "outputs": [
    {
     "name": "stdout",
     "output_type": "stream",
     "text": [
      "\u001b[01;34mdata_source/sample/directory_type1/\u001b[00m\r\n",
      "├── \u001b[01;35mcat00.jpg\u001b[00m\r\n",
      "├── \u001b[01;35mcat01.jpg\u001b[00m\r\n",
      "├── \u001b[01;35mcat02.jpg\u001b[00m\r\n",
      "├── \u001b[01;35mcat03.jpg\u001b[00m\r\n",
      "├── \u001b[01;35mcat04.jpg\u001b[00m\r\n",
      "├── \u001b[01;35mcat05.jpg\u001b[00m\r\n",
      "├── \u001b[01;35mcat06.jpg\u001b[00m\r\n",
      "├── \u001b[01;35mcat07.jpg\u001b[00m\r\n",
      "├── \u001b[01;35mcat08.jpg\u001b[00m\r\n",
      "├── \u001b[01;35mcat09.jpg\u001b[00m\r\n",
      "└── \u001b[01;35mcat10.jpg\u001b[00m\r\n",
      "\r\n",
      "0 directories, 11 files\r\n"
     ]
    }
   ],
   "source": [
    "!tree data_source/sample/directory_type1/"
   ]
  },
  {
   "cell_type": "code",
   "execution_count": 21,
   "metadata": {},
   "outputs": [
    {
     "ename": "NameError",
     "evalue": "name 'a' is not defined",
     "output_type": "error",
     "traceback": [
      "\u001b[0;31m---------------------------------------------------------------------------\u001b[0m",
      "\u001b[0;31mNameError\u001b[0m                                 Traceback (most recent call last)",
      "\u001b[0;32m<ipython-input-21-1795998186d6>\u001b[0m in \u001b[0;36m<module>\u001b[0;34m()\u001b[0m\n\u001b[0;32m----> 1\u001b[0;31m \u001b[0;32mfor\u001b[0m \u001b[0mimg\u001b[0m \u001b[0;32min\u001b[0m \u001b[0ma\u001b[0m\u001b[0;34m:\u001b[0m\u001b[0;34m\u001b[0m\u001b[0;34m\u001b[0m\u001b[0m\n\u001b[0m\u001b[1;32m      2\u001b[0m     \u001b[0mcv2\u001b[0m\u001b[0;34m.\u001b[0m\u001b[0mimshow\u001b[0m\u001b[0;34m(\u001b[0m\u001b[0;34m\"dog\"\u001b[0m\u001b[0;34m,\u001b[0m \u001b[0marray\u001b[0m\u001b[0;34m(\u001b[0m\u001b[0mimg\u001b[0m\u001b[0;34m)\u001b[0m\u001b[0;34m)\u001b[0m\u001b[0;34m\u001b[0m\u001b[0;34m\u001b[0m\u001b[0m\n\u001b[1;32m      3\u001b[0m     \u001b[0mcv2\u001b[0m\u001b[0;34m.\u001b[0m\u001b[0mwaitKey\u001b[0m\u001b[0;34m(\u001b[0m\u001b[0;36m1\u001b[0m\u001b[0;34m)\u001b[0m\u001b[0;34m\u001b[0m\u001b[0;34m\u001b[0m\u001b[0m\n\u001b[1;32m      4\u001b[0m \u001b[0;34m\u001b[0m\u001b[0m\n",
      "\u001b[0;31mNameError\u001b[0m: name 'a' is not defined"
     ]
    }
   ],
   "source": [
    "for img in a:\n",
    "    cv2.imshow(\"dog\", array(img))\n",
    "    cv2.waitKey(1)\n",
    "    "
   ]
  },
  {
   "cell_type": "code",
   "execution_count": 7,
   "metadata": {},
   "outputs": [
    {
     "name": "stdout",
     "output_type": "stream",
     "text": [
      "ls: /Users/yu/Bodygram: No such file or directory\r\n",
      "ls: Dropbox/Yu: No such file or directory\r\n",
      "ls: Sato/annotation_tutorial.mp4: No such file or directory\r\n"
     ]
    }
   ],
   "source": [
    "ls /Users/yu/Bodygram Dropbox/Yu Sato/annotation_tutorial.mp4"
   ]
  },
  {
   "cell_type": "code",
   "execution_count": 3,
   "metadata": {},
   "outputs": [],
   "source": [
    "import glob as g"
   ]
  },
  {
   "cell_type": "code",
   "execution_count": 26,
   "metadata": {},
   "outputs": [
    {
     "data": {
      "text/plain": [
       "['/Users/yu/Bodygram Dropbox/data/annotated/tokyo_shirt/img/front/002_front.jpg',\n",
       " '/Users/yu/Bodygram Dropbox/data/annotated/tokyo_shirt/img/front/004_front.jpg',\n",
       " '/Users/yu/Bodygram Dropbox/data/annotated/tokyo_shirt/img/front/003_front.jpg',\n",
       " '/Users/yu/Bodygram Dropbox/data/annotated/tokyo_shirt/img/front/005_front.jpg',\n",
       " '/Users/yu/Bodygram Dropbox/data/annotated/tokyo_shirt/img/front/006_front.jpg',\n",
       " '/Users/yu/Bodygram Dropbox/data/annotated/tokyo_shirt/img/front/001_front.jpg',\n",
       " '/Users/yu/Bodygram Dropbox/data/annotated/tokyo_shirt/img/front/007_front.jpg']"
      ]
     },
     "execution_count": 26,
     "metadata": {},
     "output_type": "execute_result"
    }
   ],
   "source": [
    "g.glob(\"/Users/yu/Bodygram Dropbox/data/annotated/tokyo_shirt/img/front/*\")"
   ]
  },
  {
   "cell_type": "code",
   "execution_count": null,
   "metadata": {},
   "outputs": [],
   "source": [
    "a = dsf.DataSourceFactory"
   ]
  },
  {
   "cell_type": "markdown",
   "metadata": {},
   "source": [
    "### Loding CSV\n",
    "CSV file also can be loaded."
   ]
  },
  {
   "cell_type": "code",
   "execution_count": 1,
   "metadata": {},
   "outputs": [
    {
     "name": "stdout",
     "output_type": "stream",
     "text": [
      "sepal_length,sepal_width,petal_length,petal_width,species\r\n",
      "5.1,3.5,1.4,0.2,setosa\r\n",
      "4.9,3,1.4,0.2,setosa\r\n",
      "4.7,3.2,1.3,0.2,setosa\r\n",
      "4.6,3.1,1.5,0.2,setosa\r\n",
      "5,3.6,1.4,0.2,setosa\r\n",
      "5.4,3.9,1.7,0.4,setosa\r\n",
      "4.6,3.4,1.4,0.3,setosa\r\n",
      "5,3.4,1.5,0.2,setosa\r\n",
      "4.4,2.9,1.4,0.2,setosa\r\n"
     ]
    }
   ],
   "source": [
    "!head sample/iris.csv"
   ]
  },
  {
   "cell_type": "code",
   "execution_count": 3,
   "metadata": {},
   "outputs": [],
   "source": [
    "# you can select what columns extract from csv file as to input 'column_lst'\n",
    "csv  = dsf.DataSourceFactory().create('sample/iris.csv', column_lst=['sepal_length', 'species'])"
   ]
  },
  {
   "cell_type": "code",
   "execution_count": 4,
   "metadata": {
    "scrolled": true
   },
   "outputs": [
    {
     "name": "stdout",
     "output_type": "stream",
     "text": [
      "[5.1 'setosa']\n",
      "[4.9 'setosa']\n",
      "[4.7 'setosa']\n",
      "[4.6 'setosa']\n",
      "[5.0 'setosa']\n",
      "[5.4 'setosa']\n",
      "[4.6 'setosa']\n",
      "[5.0 'setosa']\n",
      "[4.4 'setosa']\n",
      "[4.9 'setosa']\n",
      "[5.4 'setosa']\n"
     ]
    }
   ],
   "source": [
    "for i, line in enumerate(csv):\n",
    "    print(line)\n",
    "    if i == 10: break"
   ]
  }
 ],
 "metadata": {
  "kernelspec": {
   "display_name": "Python 3",
   "language": "python",
   "name": "python3"
  },
  "language_info": {
   "codemirror_mode": {
    "name": "ipython",
    "version": 3
   },
   "file_extension": ".py",
   "mimetype": "text/x-python",
   "name": "python",
   "nbconvert_exporter": "python",
   "pygments_lexer": "ipython3",
   "version": "3.6.8"
  }
 },
 "nbformat": 4,
 "nbformat_minor": 2
}
